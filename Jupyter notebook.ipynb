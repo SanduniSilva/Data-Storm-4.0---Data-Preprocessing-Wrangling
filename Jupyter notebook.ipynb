{
 "cells": [
  {
   "attachments": {},
   "cell_type": "markdown",
   "metadata": {},
   "source": [
    "# **<u><center> Data Storm Project </center></u>**\n",
    "## <u><center> Data pre-processing & wrangling </center></u>\n",
    "\n",
    "This report represent the process that was used to pre-process and wrangling the data in the Data Storm project. The data was collected from four different tables; evaluation data, historical-transaction data, store-info and testing data. Following steps are used to pre-process data and for data wrangling.\n",
    "\n",
    "### **1. <u>Data Pre-Processing</u>**"
   ]
  },
  {
   "attachments": {},
   "cell_type": "markdown",
   "metadata": {},
   "source": [
    "**1.1. Data Loading**\n",
    "\n",
    "- Load the relevant data to the working environment is the first step of data pre-processing."
   ]
  },
  {
   "cell_type": "code",
   "execution_count": 145,
   "metadata": {},
   "outputs": [],
   "source": [
    "import pandas as pd\n",
    "\n",
    "evaluation_df = pd.read_csv('D:/Uni/5 Semester/Data Wrangling/Data storm/Evaluation-data.csv')\n",
    "hist_trans_df = pd.read_csv('D:/Uni/5 Semester/Data Wrangling/Data storm/Historical-transaction-data.csv')\n",
    "store_info_df = pd.read_csv('D:/Uni/5 Semester/Data Wrangling/Data storm/Store-info.csv')\n",
    "testing_df = pd.read_csv('D:/Uni/5 Semester/Data Wrangling/Data storm/Testing-data.csv')"
   ]
  },
  {
   "attachments": {},
   "cell_type": "markdown",
   "metadata": {},
   "source": [
    "**1.2. Data Inspection**\n",
    "\n",
    "- This is to get an idea and an overview about the data and its structre and issues before doing any changes."
   ]
  },
  {
   "cell_type": "code",
   "execution_count": 146,
   "metadata": {},
   "outputs": [
    {
     "name": "stdout",
     "output_type": "stream",
     "text": [
      "Evaluation_df & summary statistics: \n",
      "\n",
      "    shop_id shop_profile\n",
      "0  SHOP046          Low\n",
      "1  SHOP024          Low\n",
      "2  SHOP023          Low\n",
      "3  SHOP097     Moderate\n",
      "4  SHOP044     Moderate\n",
      "        shop_id shop_profile\n",
      "count        24           24\n",
      "unique       24            3\n",
      "top     SHOP046          Low\n",
      "freq          1           13\n",
      "\n",
      " Historical Transaction df & summary statistics: \n",
      "\n",
      "         item_description          transaction_date  invoice_id customer_id  \\\n",
      "0     ORANGE BARLEY 1.5L  2021-12-11T00:00:00.000Z       147.0        BGXA   \n",
      "1       GINGER BEER 1.5L  2021-10-17T00:00:00.000Z       371.0        IA25   \n",
      "2        TONIC PET 500ML  2021-12-13T00:00:00.000Z       484.0        VN7V   \n",
      "3          CREAM SODA 1L  2021-12-13T00:00:00.000Z       484.0        VN7V   \n",
      "4  STRAWBERRY MILK 180ML  2021-10-23T00:00:00.000Z      1310.0        7S00   \n",
      "\n",
      "   shop_id  item_price  quantity_sold  \n",
      "0  SHOP008         220              2  \n",
      "1  SHOP112         220              2  \n",
      "2  SHOP008         160              2  \n",
      "3  SHOP008         150              2  \n",
      "4  SHOP112         210              5  \n",
      "         invoice_id     item_price  quantity_sold\n",
      "count  4.676540e+05  473974.000000  473974.000000\n",
      "mean   1.996684e+06     206.689734       1.925506\n",
      "std    1.344594e+06     166.764732       1.634535\n",
      "min    1.700000e+01      35.000000      -1.000000\n",
      "25%    1.032114e+06     100.000000       1.000000\n",
      "50%    2.032996e+06     200.000000       2.000000\n",
      "75%    3.032568e+06     220.000000       2.000000\n",
      "max    8.331754e+06   17400.000000     101.000000\n",
      "\n",
      " Store Info df & summary statistics: \n",
      "\n",
      "    shop_id  shop_area_sq_ft shop_profile\n",
      "0  SHOP047              528     Moderate\n",
      "1  SHOP009              676         High\n",
      "2  SHOP083              676          Low\n",
      "3  SHOP117              676          Low\n",
      "4  SHOP042              676          Low\n",
      "       shop_area_sq_ft\n",
      "count       124.000000\n",
      "mean        619.991935\n",
      "std         126.770165\n",
      "min         298.000000\n",
      "25%         553.250000\n",
      "50%         617.000000\n",
      "75%         676.000000\n",
      "max        1077.000000\n",
      "\n",
      " Testing df & summary statistics: \n",
      "\n",
      "    shop_id  shop_profile\n",
      "0  SHOP046           NaN\n",
      "1  SHOP024           NaN\n",
      "2  SHOP023           NaN\n",
      "3  SHOP097           NaN\n",
      "4  SHOP044           NaN\n",
      "       shop_profile\n",
      "count           0.0\n",
      "mean            NaN\n",
      "std             NaN\n",
      "min             NaN\n",
      "25%             NaN\n",
      "50%             NaN\n",
      "75%             NaN\n",
      "max             NaN\n"
     ]
    }
   ],
   "source": [
    "# Display evaluation_df\n",
    "print(\"Evaluation_df & summary statistics: \\n\\n\",evaluation_df.head())\n",
    "print(evaluation_df.describe())\n",
    "\n",
    "# Display hist_trans_df\n",
    "print(\"\\n Historical Transaction df & summary statistics: \\n\\n\",hist_trans_df.head())\n",
    "print(hist_trans_df.describe())\n",
    "\n",
    "# Display store_info_df\n",
    "print(\"\\n Store Info df & summary statistics: \\n\\n\",store_info_df.head())\n",
    "print(store_info_df.describe())\n",
    "\n",
    "# Display testing_df\n",
    "print(\"\\n Testing df & summary statistics: \\n\\n\", testing_df.head())\n",
    "print(testing_df.describe())"
   ]
  },
  {
   "attachments": {},
   "cell_type": "markdown",
   "metadata": {},
   "source": [
    "**1.3. Data Cleaning**\n",
    "\n",
    "- This is to find and do remedies for missing values."
   ]
  },
  {
   "cell_type": "code",
   "execution_count": 147,
   "metadata": {},
   "outputs": [
    {
     "name": "stdout",
     "output_type": "stream",
     "text": [
      "Mssing values in evaluation df:\n",
      "\n",
      " shop_id         0\n",
      "shop_profile    0\n",
      "dtype: int64\n",
      "\n",
      " Mssing values in historical transactions df:\n",
      "\n",
      " item_description    35928\n",
      "transaction_date        0\n",
      "invoice_id           6320\n",
      "customer_id             0\n",
      "shop_id                 0\n",
      "item_price              0\n",
      "quantity_sold           0\n",
      "dtype: int64\n",
      "\n",
      " Mssing values in store info df:\n",
      "\n",
      " shop_id             0\n",
      "shop_area_sq_ft     0\n",
      "shop_profile       24\n",
      "dtype: int64\n",
      "\n",
      " Mssing values in testing df:\n",
      "\n",
      " shop_id          0\n",
      "shop_profile    24\n",
      "dtype: int64\n"
     ]
    }
   ],
   "source": [
    "eval_df_mis = evaluation_df.isnull().sum()\n",
    "print(\"Mssing values in evaluation df:\\n\\n\", eval_df_mis)\n",
    "\n",
    "his_trans_df_mis = hist_trans_df.isnull().sum()\n",
    "print(\"\\n Mssing values in historical transactions df:\\n\\n\", his_trans_df_mis)\n",
    "\n",
    "store_info_df_mis = store_info_df.isnull().sum()\n",
    "print(\"\\n Mssing values in store info df:\\n\\n\", store_info_df_mis)\n",
    "\n",
    "testing_df_mis = testing_df.isnull().sum()\n",
    "print(\"\\n Mssing values in testing df:\\n\\n\", testing_df_mis)"
   ]
  },
  {
   "attachments": {},
   "cell_type": "markdown",
   "metadata": {},
   "source": [
    "- Since the missing values are descriptions and there are enough data to understand and do the analysis we do not need to remove the missing data."
   ]
  },
  {
   "attachments": {},
   "cell_type": "markdown",
   "metadata": {},
   "source": [
    "### **2. <u>Data Wrangling</u>**"
   ]
  },
  {
   "attachments": {},
   "cell_type": "markdown",
   "metadata": {},
   "source": [
    "**2.1. Data Transformation**\n",
    "\n",
    "- This step is needed to transform the data which make them suitable for analysis."
   ]
  },
  {
   "attachments": {},
   "cell_type": "markdown",
   "metadata": {},
   "source": [
    " **2.1.1. Merge all the tables into one DataFrame** \n",
    "  - This will help to gain a comprehensive view of store data."
   ]
  },
  {
   "cell_type": "code",
   "execution_count": 148,
   "metadata": {},
   "outputs": [
    {
     "name": "stdout",
     "output_type": "stream",
     "text": [
      "   shop_id shop_profile_x         item_description          transaction_date  \\\n",
      "0  SHOP046            Low     FIT O MIXED FRUIT 1L  2021-10-15T00:00:00.000Z   \n",
      "1  SHOP046            Low          FIT O ORANGE 1L  2021-10-27T00:00:00.000Z   \n",
      "2  SHOP046            Low            LEMONADE 1.5L  2021-10-28T00:00:00.000Z   \n",
      "3  SHOP046            Low        FIT O MANGO 200ML  2021-11-03T00:00:00.000Z   \n",
      "4  SHOP046            Low  FIT O MIXED FRUIT 200ML  2021-11-03T00:00:00.000Z   \n",
      "\n",
      "   invoice_id customer_id  item_price  quantity_sold  shop_area_sq_ft  \\\n",
      "0    154826.0        H6RV         270              1              545   \n",
      "1    157798.0        Z1SZ         290              1              545   \n",
      "2    157881.0        HFM8         220              2              545   \n",
      "3    159352.0        RFTZ         180              4              545   \n",
      "4    159352.0        RFTZ          60              1              545   \n",
      "\n",
      "  shop_profile_y  shop_profile  \n",
      "0            NaN           NaN  \n",
      "1            NaN           NaN  \n",
      "2            NaN           NaN  \n",
      "3            NaN           NaN  \n",
      "4            NaN           NaN  \n"
     ]
    }
   ],
   "source": [
    "# Merge tables into a new DataFrame\n",
    "df1 = pd.merge(evaluation_df, hist_trans_df, on='shop_id')\n",
    "df2 = pd.merge(df1, store_info_df, on='shop_id')\n",
    "main_df = pd.merge(df2, testing_df, on='shop_id')\n",
    "\n",
    "print(main_df.head())"
   ]
  },
  {
   "attachments": {},
   "cell_type": "markdown",
   "metadata": {},
   "source": [
    "**2.1.2. Create new variables**\n",
    " - Sometime there may be missinfg information in the dataset and in a situation like that we can build new variables which may helpful in future analysis using the present data."
   ]
  },
  {
   "cell_type": "code",
   "execution_count": 149,
   "metadata": {},
   "outputs": [
    {
     "name": "stdout",
     "output_type": "stream",
     "text": [
      "   shop_id shop_profile_x         item_description          transaction_date  \\\n",
      "0  SHOP046            Low     FIT O MIXED FRUIT 1L  2021-10-15T00:00:00.000Z   \n",
      "1  SHOP046            Low          FIT O ORANGE 1L  2021-10-27T00:00:00.000Z   \n",
      "2  SHOP046            Low            LEMONADE 1.5L  2021-10-28T00:00:00.000Z   \n",
      "3  SHOP046            Low        FIT O MANGO 200ML  2021-11-03T00:00:00.000Z   \n",
      "4  SHOP046            Low  FIT O MIXED FRUIT 200ML  2021-11-03T00:00:00.000Z   \n",
      "\n",
      "   invoice_id customer_id  item_price  quantity_sold  shop_area_sq_ft  \\\n",
      "0    154826.0        H6RV         270              1              545   \n",
      "1    157798.0        Z1SZ         290              1              545   \n",
      "2    157881.0        HFM8         220              2              545   \n",
      "3    159352.0        RFTZ         180              4              545   \n",
      "4    159352.0        RFTZ          60              1              545   \n",
      "\n",
      "  shop_profile_y  shop_profile store_perfor  \n",
      "0            NaN           NaN          low  \n",
      "1            NaN           NaN          low  \n",
      "2            NaN           NaN          low  \n",
      "3            NaN           NaN          low  \n",
      "4            NaN           NaN          low  \n"
     ]
    }
   ],
   "source": [
    "# Create new vvariable called \"store_perfor\" to represent the performance of the stores as \"high\", \"medium\", or \"low\" based on their sales\n",
    "main_df['store_perfor'] = pd.cut(main_df['quantity_sold'], bins=[0, 10000, 20000, 30000], labels=['low', 'medium', 'high'])\n",
    "\n",
    "print(main_df.head())"
   ]
  },
  {
   "attachments": {},
   "cell_type": "markdown",
   "metadata": {},
   "source": [
    "**2.1.3. Calculate additional metrices**\n",
    " - This will allow to summarize the data and provide valuable insights about the overall dataset."
   ]
  },
  {
   "cell_type": "code",
   "execution_count": 150,
   "metadata": {},
   "outputs": [
    {
     "name": "stdout",
     "output_type": "stream",
     "text": [
      "         total sales  customer count  invoice count  avg_transaction_val  \\\n",
      "shop_id                                                                    \n",
      "SHOP002      1090135            2577           3769           289.237198   \n",
      "SHOP019       885265            1922           3045           290.727422   \n",
      "SHOP023       894740            2227           3138           285.130656   \n",
      "SHOP024       563095            1641           2302           244.611208   \n",
      "SHOP029       789280            2052           2875           274.532174   \n",
      "\n",
      "         avg_items_transaction  \n",
      "shop_id                         \n",
      "SHOP002               1.993333  \n",
      "SHOP019               1.904673  \n",
      "SHOP023               1.936632  \n",
      "SHOP024               1.829344  \n",
      "SHOP029               1.935246  \n"
     ]
    }
   ],
   "source": [
    "# Aggregate the transaction-data to build a \"store-level\" matrix like; total quantity sold, customer count, invoice count, etc.\n",
    "\n",
    "store_matrix = main_df.groupby('shop_id').agg({\n",
    "    'item_price': 'sum',\n",
    "    'customer_id': 'nunique',\n",
    "    'invoice_id': 'nunique'\n",
    "})\n",
    "\n",
    "store_matrix.rename(columns={\n",
    "     'item_price': 'total sales',\n",
    "    'customer_id': 'customer count',\n",
    "    'invoice_id': 'invoice count'\n",
    "}, inplace=True)\n",
    "\n",
    "\n",
    "# Average transaction & Average items pr transaction matrix.\n",
    "# Average transaction matirx\n",
    "store_matrix['avg_transaction_val'] = store_matrix['total sales'] / store_matrix['invoice count']\n",
    "\n",
    "# Average items per transaction matirx\n",
    "store_matrix['avg_items_transaction'] = main_df.groupby('shop_id')['quantity_sold'].mean()\n",
    "\n",
    "print(store_matrix.head())"
   ]
  },
  {
   "attachments": {},
   "cell_type": "markdown",
   "metadata": {},
   "source": [
    "**2.1.4. Create new features/ insights**\n",
    " - Creating new features will enhance the understanding the behavior of the dataset and enable optimizations and target strategies."
   ]
  },
  {
   "cell_type": "code",
   "execution_count": 151,
   "metadata": {},
   "outputs": [
    {
     "name": "stdout",
     "output_type": "stream",
     "text": [
      "       shop_id shop_profile_x         item_description  \\\n",
      "0      SHOP046            Low     FIT O MIXED FRUIT 1L   \n",
      "1      SHOP046            Low          FIT O ORANGE 1L   \n",
      "2      SHOP046            Low            LEMONADE 1.5L   \n",
      "3      SHOP046            Low        FIT O MANGO 200ML   \n",
      "4      SHOP046            Low  FIT O MIXED FRUIT 200ML   \n",
      "...        ...            ...                      ...   \n",
      "86628  SHOP070            Low  CREAM SODA APPLE POP 1L   \n",
      "86629  SHOP070            Low         GINGER BEER 1.5L   \n",
      "86630  SHOP070            Low                  SODA 1L   \n",
      "86631  SHOP070            Low       ORANGE CRUSH 500ML   \n",
      "86632  SHOP070            Low         GINGER BEER 1.5L   \n",
      "\n",
      "               transaction_date  invoice_id customer_id  item_price  \\\n",
      "0      2021-10-15T00:00:00.000Z    154826.0        H6RV         270   \n",
      "1      2021-10-27T00:00:00.000Z    157798.0        Z1SZ         290   \n",
      "2      2021-10-28T00:00:00.000Z    157881.0        HFM8         220   \n",
      "3      2021-11-03T00:00:00.000Z    159352.0        RFTZ         180   \n",
      "4      2021-11-03T00:00:00.000Z    159352.0        RFTZ          60   \n",
      "...                         ...         ...         ...         ...   \n",
      "86628  2021-12-06T00:00:00.000Z   2182136.0        FGBA         150   \n",
      "86629  2021-12-12T00:00:00.000Z   2183207.0        DSXF         220   \n",
      "86630  2021-11-20T00:00:00.000Z   3897834.0        WSFD         110   \n",
      "86631  2021-12-11T00:00:00.000Z   3898615.0        6096         100   \n",
      "86632  2021-12-12T00:00:00.000Z   3898670.0        FFDX         220   \n",
      "\n",
      "       quantity_sold  shop_area_sq_ft shop_profile_y  shop_profile  \\\n",
      "0                  1              545            NaN           NaN   \n",
      "1                  1              545            NaN           NaN   \n",
      "2                  2              545            NaN           NaN   \n",
      "3                  4              545            NaN           NaN   \n",
      "4                  1              545            NaN           NaN   \n",
      "...              ...              ...            ...           ...   \n",
      "86628              1              676            NaN           NaN   \n",
      "86629              1              676            NaN           NaN   \n",
      "86630              2              676            NaN           NaN   \n",
      "86631              2              676            NaN           NaN   \n",
      "86632              2              676            NaN           NaN   \n",
      "\n",
      "      store_perfor  trans_month  \n",
      "0              low           10  \n",
      "1              low           10  \n",
      "2              low           10  \n",
      "3              low           11  \n",
      "4              low           11  \n",
      "...            ...          ...  \n",
      "86628          low           12  \n",
      "86629          low           12  \n",
      "86630          low           11  \n",
      "86631          low           12  \n",
      "86632          low           12  \n",
      "\n",
      "[86633 rows x 13 columns]\n"
     ]
    }
   ],
   "source": [
    "# Create a new column for month of the transaction\n",
    "main_df['trans_month'] = pd.to_datetime(main_df['transaction_date']).dt.month\n",
    "\n",
    "print(main_df)"
   ]
  },
  {
   "attachments": {},
   "cell_type": "markdown",
   "metadata": {},
   "source": [
    "**2.1.5. Performing data normalizaion/ scalling**\n",
    " - This ensure whether the variables are on a comparable scale or not since compare the variables are essential for certain analysis."
   ]
  },
  {
   "cell_type": "code",
   "execution_count": 152,
   "metadata": {},
   "outputs": [
    {
     "name": "stdout",
     "output_type": "stream",
     "text": [
      "MinMaxScaler(feature_range=       shop_id shop_profile_x         item_description  \\\n",
      "0      SHOP046            Low     FIT O MIXED FRUIT 1L   \n",
      "1      SHOP046            Low          FIT O ORANGE 1L   \n",
      "2      SHOP046            Low            LEMONADE 1.5L   \n",
      "3      SHOP046            Low        FIT O MANGO 200ML   \n",
      "4      SHOP046            Low  FIT O MIXED FRUIT 200ML   \n",
      "...        ...            ...                      ...   \n",
      "86628  SHOP070            Low  CREAM SODA APPLE POP 1L   \n",
      "86629  SHOP070            Low         GINGER BEER 1.5L   \n",
      "86630  SHOP070            Low                  SODA 1L   \n",
      "86631  SHOP070            Low       ORANGE CRUSH 500ML   \n",
      "86632  SHOP070            Low         GINGER BEER 1.5L   \n",
      "\n",
      "               t...\n",
      "86632  2021-12-12T00:00:00.000Z   3898670.0        FFDX         220   \n",
      "\n",
      "       quantity_sold  shop_area_sq_ft shop_profile_y  shop_profile  \\\n",
      "0                  1              545            NaN           NaN   \n",
      "1                  1              545            NaN           NaN   \n",
      "2                  2              545            NaN           NaN   \n",
      "3                  4              545            NaN           NaN   \n",
      "4                  1              545            NaN           NaN   \n",
      "...              ...              ...            ...           ...   \n",
      "86628              1              676            NaN           NaN   \n",
      "86629              1              676            NaN           NaN   \n",
      "86630              2              676            NaN           NaN   \n",
      "86631              2              676            NaN           NaN   \n",
      "86632              2              676            NaN           NaN   \n",
      "\n",
      "      store_perfor  trans_month  \n",
      "0              low           10  \n",
      "1              low           10  \n",
      "2              low           10  \n",
      "3              low           11  \n",
      "4              low           11  \n",
      "...            ...          ...  \n",
      "86628          low           12  \n",
      "86629          low           12  \n",
      "86630          low           11  \n",
      "86631          low           12  \n",
      "86632          low           12  \n",
      "\n",
      "[86633 rows x 13 columns])\n"
     ]
    }
   ],
   "source": [
    "from sklearn.preprocessing import MinMaxScaler\n",
    "\n",
    "main_df = MinMaxScaler(main_df)\n",
    "\n",
    "print(main_df)"
   ]
  },
  {
   "attachments": {},
   "cell_type": "markdown",
   "metadata": {},
   "source": [
    "**2.2. Data Exploration**\n",
    "\n",
    "- This is to get an idea about the characteristics of the data and gain insights about them by explore pre-processed data."
   ]
  },
  {
   "attachments": {},
   "cell_type": "markdown",
   "metadata": {},
   "source": [
    "**2.2.1. Visualize the distributions of main variables**"
   ]
  },
  {
   "cell_type": "code",
   "execution_count": 153,
   "metadata": {},
   "outputs": [
    {
     "data": {
      "image/png": "[encoded data removed]",
      "text/plain": [
       "<Figure size 640x480 with 1 Axes>"
      ]
     },
     "metadata": {},
     "output_type": "display_data"
    }
   ],
   "source": [
    "import matplotlib.pyplot as plt \n",
    "\n",
    "# Distribution of sales\n",
    "plt.hist(store_matrix['total sales'], bins=10)\n",
    "plt.xlabel('Total Sales')\n",
    "plt.ylabel('Frequency')\n",
    "plt.title('Distribution of Total Sales')\n",
    "plt.show()"
   ]
  },
  {
   "attachments": {},
   "cell_type": "markdown",
   "metadata": {},
   "source": [
    " - The above histogram shows the distribution of total sales in different stores and most of the stores have low to medium range sale, while a few stores have a higher sale."
   ]
  },
  {
   "attachments": {},
   "cell_type": "markdown",
   "metadata": {},
   "source": [
    "**2.2.2. Analyze relationships between variables**"
   ]
  },
  {
   "cell_type": "code",
   "execution_count": 154,
   "metadata": {},
   "outputs": [
    {
     "data": {
      "image/png": "[encoded data removed]",
      "text/plain": [
       "<Figure size 640x480 with 2 Axes>"
      ]
     },
     "metadata": {},
     "output_type": "display_data"
    }
   ],
   "source": [
    "import seaborn as sns\n",
    "\n",
    "# Correlation matrix\n",
    "corr_matrix = store_matrix[['total sales', 'customer count', 'avg_transaction_val']].corr()\n",
    "\n",
    "# Correlation matix as a heatmap\n",
    "sns.heatmap(corr_matrix, annot=True, cmap='coolwarm')\n",
    "plt.title('Correlation Matrix')\n",
    "plt.show()"
   ]
  },
  {
   "attachments": {},
   "cell_type": "markdown",
   "metadata": {},
   "source": [
    " - The above heatmap shows the correlation matrix between totals sales, customer count and average transaction value. Darker colour represent the stronger + and - correlations. According to that the follwoing interpretations can be given;\n",
    " \n",
    "    - There is a strong positive correlation between total sales and customer count.\n",
    "    - There is a weak ppsitive correlation of 0.21 between total sales and average transaction value.\n",
    "    - There is a weak negative correlation between customer count and average transaction value."
   ]
  },
  {
   "attachments": {},
   "cell_type": "markdown",
   "metadata": {},
   "source": [
    "**2.2.3. Identify outliers & Summary statistics**"
   ]
  },
  {
   "cell_type": "code",
   "execution_count": 155,
   "metadata": {},
   "outputs": [
    {
     "name": "stdout",
     "output_type": "stream",
     "text": [
      "No. of outliers ---> Empty DataFrame\n",
      "Columns: [total sales, customer count, invoice count, avg_transaction_val, avg_items_transaction]\n",
      "Index: []\n",
      "        total sales  customer count  invoice count  avg_transaction_val  \\\n",
      "count  2.400000e+01        24.00000      24.000000            24.000000   \n",
      "mean   7.719827e+05      1910.87500    2785.833333           277.198914   \n",
      "std    2.073814e+05       496.08759     722.863128            18.036904   \n",
      "min    4.185450e+05       921.00000    1479.000000           244.611208   \n",
      "25%    6.264062e+05      1640.00000    2334.250000           266.338883   \n",
      "50%    7.710125e+05      1851.50000    2827.000000           278.594546   \n",
      "75%    8.876338e+05      2232.00000    3143.250000           289.609754   \n",
      "max    1.197065e+06      2832.00000    4320.000000           312.007917   \n",
      "\n",
      "       avg_items_transaction  \n",
      "count              24.000000  \n",
      "mean                1.947802  \n",
      "std                 0.145224  \n",
      "min                 1.799571  \n",
      "25%                 1.848610  \n",
      "50%                 1.934362  \n",
      "75%                 1.962065  \n",
      "max                 2.460245  \n"
     ]
    }
   ],
   "source": [
    "# Calculate IQR\n",
    "q1 = store_matrix['total sales'].quantile(0.25)\n",
    "q3 = store_matrix['total sales'].quantile(0.75)\n",
    "\n",
    "IQR = q3 - q1\n",
    "\n",
    "# Findings for outliers\n",
    "outliers = store_matrix[(store_matrix['total sales'] < q1 - 1.5 * IQR) | (store_matrix['total sales'] > q3 + 1.5 * IQR)]\n",
    "\n",
    "# Print outliers\n",
    "print(\"No. of outliers --->\", outliers)\n",
    "\n",
    "# Summary statistics\n",
    "print(store_matrix.describe())"
   ]
  },
  {
   "attachments": {},
   "cell_type": "markdown",
   "metadata": {},
   "source": [
    "<u>**Data Export**</u>\n",
    "\n",
    "- This step is to save the pre-processed data as a csv file."
   ]
  },
  {
   "cell_type": "code",
   "execution_count": 156,
   "metadata": {},
   "outputs": [],
   "source": [
    "store_matrix.to_csv(\"pre-processed_data.csv\", index=False)"
   ]
  }
 ],
 "metadata": {
  "kernelspec": {
   "display_name": "Python 3",
   "language": "python",
   "name": "python3"
  },
  "language_info": {
   "codemirror_mode": {
    "name": "ipython",
    "version": 3
   },
   "file_extension": ".py",
   "mimetype": "text/x-python",
   "name": "python",
   "nbconvert_exporter": "python",
   "pygments_lexer": "ipython3",
   "version": "3.11.4"
  },
  "orig_nbformat": 4
 },
 "nbformat": 4,
 "nbformat_minor": 2
}
